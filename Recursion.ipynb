{
 "cells": [
  {
   "cell_type": "markdown",
   "id": "32f706d9",
   "metadata": {},
   "source": [
    "## Recursion : When a function calls it self until a specific condition is met"
   ]
  },
  {
   "cell_type": "code",
   "execution_count": 1,
   "id": "f5532d4a",
   "metadata": {},
   "outputs": [
    {
     "name": "stdout",
     "output_type": "stream",
     "text": [
      "1\t1\t1\t1\t1\t1\t1\t1\t1\t1\t"
     ]
    }
   ],
   "source": [
    "'''Simple example: Printing one n times'''\n",
    "\n",
    "def f(n):\n",
    "    if n == 0:    #Base condition, with out base condition we end up getting stackoverflow error\n",
    "        return\n",
    "    \n",
    "    print(1,end = '\\t')\n",
    "    f(n-1)\n",
    "\n",
    "f(10)\n"
   ]
  },
  {
   "cell_type": "markdown",
   "id": "c5064d6e",
   "metadata": {},
   "source": [
    "# 1. Print name 5 times using recursion"
   ]
  },
  {
   "cell_type": "code",
   "execution_count": 2,
   "id": "45b6fa7e",
   "metadata": {},
   "outputs": [
    {
     "name": "stdout",
     "output_type": "stream",
     "text": [
      "mmn\tmmn\tmmn\t"
     ]
    }
   ],
   "source": [
    "def Print(i,n):\n",
    "    if i >n :\n",
    "        return\n",
    "    \n",
    "    print('mmn',end = '\\t')\n",
    "    Print(i+1,n)\n",
    "      \n",
    "n = 3\n",
    "Print(1,n)\n",
    "\n",
    "\n",
    "#Time complexity : O(n)\n",
    "#Space complexity : O(n), because stack space is used by n function calls"
   ]
  },
  {
   "cell_type": "markdown",
   "id": "80bbc697",
   "metadata": {},
   "source": [
    "# 2. Print 1 to n using recursion"
   ]
  },
  {
   "cell_type": "code",
   "execution_count": 3,
   "id": "4411b217",
   "metadata": {},
   "outputs": [
    {
     "name": "stdout",
     "output_type": "stream",
     "text": [
      "1\t2\t3\t4\t5\t"
     ]
    }
   ],
   "source": [
    "def Print(i,n):\n",
    "    if i >n :\n",
    "        return\n",
    "    \n",
    "    print(i,end = '\\t')\n",
    "    Print(i+1,n)\n",
    "      \n",
    "n = 5\n",
    "Print(1,n)\n",
    "\n",
    "\n",
    "#Time complexity : O(n)\n",
    "#Space complexity : O(n), because stack space is used by n function calls\n"
   ]
  },
  {
   "cell_type": "markdown",
   "id": "4fc62d90",
   "metadata": {},
   "source": [
    "# 3. Print 1 to n using back tracking"
   ]
  },
  {
   "cell_type": "code",
   "execution_count": 4,
   "id": "e4b39e1f",
   "metadata": {},
   "outputs": [
    {
     "name": "stdout",
     "output_type": "stream",
     "text": [
      "1\t2\t3\t4\t5\t"
     ]
    }
   ],
   "source": [
    "def Print(i,n):\n",
    "    if i < 1 :\n",
    "        return\n",
    "    \n",
    "    Print(i-1,n) # First time Print will be excuted after base condition is satisfied\n",
    "    print(i,end = '\\t') \n",
    "    \n",
    "      \n",
    "n = 5\n",
    "Print(n,n)\n",
    "\n",
    "\n",
    "#Time complexity : O(n)\n",
    "#Space complexity : O(n), because stack space is used by n function calls\n"
   ]
  },
  {
   "cell_type": "markdown",
   "id": "f7947398",
   "metadata": {},
   "source": [
    "# 4. Print n to 1 using back tracking"
   ]
  },
  {
   "cell_type": "code",
   "execution_count": 5,
   "id": "739b2ef3",
   "metadata": {},
   "outputs": [
    {
     "name": "stdout",
     "output_type": "stream",
     "text": [
      "5\t4\t3\t2\t1\t"
     ]
    }
   ],
   "source": [
    "def Print(i,n):\n",
    "    if i > n :\n",
    "        return\n",
    "    \n",
    "    Print(i+1,n) # First time Print will be excuted after base condition is satisfied\n",
    "    print(i,end = '\\t') \n",
    "    \n",
    "      \n",
    "n = 5\n",
    "Print(1,n)\n",
    "\n",
    "\n",
    "#Time complexity : O(n)\n",
    "#Space complexity : O(n), because stack space is used by n function calls\n"
   ]
  },
  {
   "cell_type": "markdown",
   "id": "d87df29d",
   "metadata": {},
   "source": [
    "# 5. Sum of first N numbers using parametrised recursion"
   ]
  },
  {
   "cell_type": "code",
   "execution_count": 6,
   "id": "56851f17",
   "metadata": {},
   "outputs": [
    {
     "name": "stdout",
     "output_type": "stream",
     "text": [
      "15\n"
     ]
    }
   ],
   "source": [
    "def Sum(i,s):\n",
    "    if i <1:\n",
    "        print(s)\n",
    "        return\n",
    "    \n",
    "    Sum(i-1,s+i)\n",
    "    \n",
    "n = 5\n",
    "Sum(5,0)\n",
    "    \n",
    "#Time complexity : O(n)\n",
    "#Space complexity : O(n), because stack space is used by n function calls"
   ]
  },
  {
   "cell_type": "markdown",
   "id": "a29051e4",
   "metadata": {},
   "source": [
    "# 6. Sum of first N numbers using functional recursion"
   ]
  },
  {
   "cell_type": "markdown",
   "id": "35c6260c",
   "metadata": {},
   "source": [
    "What is functional recusrion:\n",
    "if n =3 ,f(3) =  3+f(2)\n",
    "to find f(2), if n = 2, 2+f(1)\n",
    "to find f(1),if n = 1, 1 + f(0)"
   ]
  },
  {
   "cell_type": "code",
   "execution_count": 20,
   "id": "7dde5b63",
   "metadata": {},
   "outputs": [
    {
     "data": {
      "text/plain": [
       "15"
      ]
     },
     "execution_count": 20,
     "metadata": {},
     "output_type": "execute_result"
    }
   ],
   "source": [
    "def Sum(i):\n",
    "    if i <1:\n",
    "        return 0\n",
    "    \n",
    "    return i+Sum(i-1)\n",
    "  \n",
    "n = 5\n",
    "Sum(5)\n",
    "    \n",
    "#Time complexity : O(n)\n",
    "#Space complexity : O(n), because stack space is used by n function calls"
   ]
  },
  {
   "cell_type": "markdown",
   "id": "80476a6a",
   "metadata": {},
   "source": [
    "# 7. Factorial of N"
   ]
  },
  {
   "cell_type": "code",
   "execution_count": 22,
   "id": "3f4f6947",
   "metadata": {},
   "outputs": [
    {
     "data": {
      "text/plain": [
       "120"
      ]
     },
     "execution_count": 22,
     "metadata": {},
     "output_type": "execute_result"
    }
   ],
   "source": [
    "def factorial(n):\n",
    "    if n < 1:\n",
    "        return 1\n",
    "    \n",
    "    return n*factorial(n-1)\n",
    "\n",
    "n = 5\n",
    "factorial(n)\n",
    "\n",
    "    \n",
    "#Time complexity : O(n)\n",
    "#Space complexity : O(n), because stack space is used by n function calls"
   ]
  },
  {
   "cell_type": "markdown",
   "id": "12ecd336",
   "metadata": {},
   "source": [
    "# 8. Reverse an array with recusrion and 2 pointers"
   ]
  },
  {
   "cell_type": "code",
   "execution_count": 24,
   "id": "f4435942",
   "metadata": {},
   "outputs": [
    {
     "name": "stdout",
     "output_type": "stream",
     "text": [
      "[5, 4, 3, 2, 1]\n"
     ]
    }
   ],
   "source": [
    "def reverse(l,r):\n",
    "    \n",
    "    if l > r:\n",
    "        return\n",
    "    \n",
    "    array[l],array[r] = array[r],array[l]\n",
    "    reverse(l+1,r-1)\n",
    "    \n",
    "array = [1,2,3,4,5]\n",
    "l = 0\n",
    "r = len(array)-1\n",
    "\n",
    "reverse(l,r)\n",
    "print(array)\n",
    "\n",
    "#Time complexity : O(n)\n",
    "#Space complexity : O(n), because stack space is used by n function calls"
   ]
  },
  {
   "cell_type": "markdown",
   "id": "288f850a",
   "metadata": {},
   "source": [
    "# 9. Reverse an array with recusrion and without 2 pointers"
   ]
  },
  {
   "cell_type": "code",
   "execution_count": 28,
   "id": "7a506705",
   "metadata": {},
   "outputs": [
    {
     "name": "stdout",
     "output_type": "stream",
     "text": [
      "[5, 4, 3, 2, 1]\n"
     ]
    }
   ],
   "source": [
    "def reverse(l):\n",
    "    \n",
    "    if l > n//2:\n",
    "        return\n",
    "    \n",
    "    array[l],array[n-l-1] = array[n-l-1],array[l]\n",
    "    reverse(l+1)\n",
    "    \n",
    "array = [1,2,3,4,5]\n",
    "l = 0\n",
    "n = len(array)\n",
    "\n",
    "reverse(l)\n",
    "print(array)\n",
    "\n",
    "#Time complexity : O(n)\n",
    "#Space complexity : O(n), because stack space is used by n function calls"
   ]
  },
  {
   "cell_type": "markdown",
   "id": "82c87caa",
   "metadata": {},
   "source": [
    "# 10. Check if a string is palindrome using functional recursion"
   ]
  },
  {
   "cell_type": "code",
   "execution_count": 31,
   "id": "9714026c",
   "metadata": {},
   "outputs": [
    {
     "data": {
      "text/plain": [
       "True"
      ]
     },
     "execution_count": 31,
     "metadata": {},
     "output_type": "execute_result"
    }
   ],
   "source": [
    "def palindrome(l):\n",
    "    \n",
    "    if l > n//2:\n",
    "        return True\n",
    "    \n",
    "    if string[l] != string[n-l-1]:\n",
    "        return False\n",
    "    \n",
    "    \n",
    "    return palindrome(l+1)\n",
    "    \n",
    "string = 'madam'\n",
    "l = 0\n",
    "n = len(string)\n",
    "\n",
    "palindrome(0)\n",
    "\n",
    "\n",
    "#Time complexity : O(n)\n",
    "#Space complexity : O(n), because stack space is used by n function calls"
   ]
  },
  {
   "cell_type": "markdown",
   "id": "0edff172",
   "metadata": {},
   "source": [
    "# 11. Multiple recursion calls : example : Fibinocci number"
   ]
  },
  {
   "cell_type": "code",
   "execution_count": 33,
   "id": "552ea4db",
   "metadata": {},
   "outputs": [
    {
     "data": {
      "text/plain": [
       "8"
      ]
     },
     "execution_count": 33,
     "metadata": {},
     "output_type": "execute_result"
    }
   ],
   "source": [
    "def fib(n):\n",
    "    if n <= 1:\n",
    "        return n\n",
    "    \n",
    "    return fib(n-1)+fib(n-2)\n",
    "\n",
    "fib(6)\n",
    "\n",
    "\n",
    "#Time complexity : O(2^n)\n",
    "#Space complexity : O(n), because stack space is used by n function calls"
   ]
  },
  {
   "cell_type": "markdown",
   "id": "87bd96ba",
   "metadata": {},
   "source": [
    "# 12. Print all subsequences"
   ]
  },
  {
   "cell_type": "markdown",
   "id": "cddb3676",
   "metadata": {},
   "source": [
    "If array = [3,1,2] then Subsequences = [],[3],[1],[2],[3,1],[3,2],[1,2],[3,1,2]"
   ]
  },
  {
   "cell_type": "code",
   "execution_count": 39,
   "id": "3c02f284",
   "metadata": {},
   "outputs": [
    {
     "name": "stdout",
     "output_type": "stream",
     "text": [
      "[3, 1, 2]  [3, 1]  [3, 2]  [3]  [1, 2]  [1]  [2]  []  "
     ]
    }
   ],
   "source": [
    "def subsequences(ind,op):\n",
    "    \n",
    "    if ind >= n:\n",
    "        print(op,end = '  ')\n",
    "        return\n",
    "    \n",
    "    op.append(arr[ind])     #pick element in the subsequence\n",
    "    subsequences(ind+1,op)\n",
    "    op.remove(arr[ind])     #do not pick element in the subsequence\n",
    "    subsequences(ind+1,op)\n",
    "    \n",
    "\n",
    "arr = [3,1,2]\n",
    "n = len(arr)\n",
    "subsequences(0,[])\n",
    "\n",
    "#Time complexity : O(2^n*n)\n",
    "#Space complexity : O(n), because stack space is used by n function calls\n",
    "        "
   ]
  },
  {
   "cell_type": "markdown",
   "id": "f880f426",
   "metadata": {},
   "source": [
    "# 13. Print subsequences whose sum is K"
   ]
  },
  {
   "cell_type": "code",
   "execution_count": 42,
   "id": "cad577ec",
   "metadata": {},
   "outputs": [
    {
     "name": "stdout",
     "output_type": "stream",
     "text": [
      "[1, 1]  [2]  "
     ]
    }
   ],
   "source": [
    "def subsequences(ind,op,sum):\n",
    "    \n",
    "    if ind >= n:\n",
    "        \n",
    "        if sum == k:\n",
    "            print(op,end = '  ')\n",
    "        return\n",
    "    \n",
    "    op.append(arr[ind])     #pick element in the subsequence\n",
    "    subsequences(ind+1,op,sum+arr[ind])\n",
    "    op.remove(arr[ind])     #do not pick element in the subsequence\n",
    "    subsequences(ind+1,op,sum)\n",
    "    \n",
    "\n",
    "arr = [1,2,1]\n",
    "k = 2\n",
    "n = len(arr)\n",
    "subsequences(0,[],0)\n",
    "\n",
    "#Time complexity : O(2^n*n)\n",
    "#Space complexity : O(n), because stack space is used by n function calls\n",
    "        "
   ]
  },
  {
   "cell_type": "markdown",
   "id": "74a4bf4c",
   "metadata": {},
   "source": [
    "# 14. Print any subsequence whose sum is K"
   ]
  },
  {
   "cell_type": "markdown",
   "id": "9731d5d3",
   "metadata": {},
   "source": [
    "In this problem we use technique to print just one subsequence"
   ]
  },
  {
   "cell_type": "code",
   "execution_count": null,
   "id": "1664bb1d",
   "metadata": {},
   "outputs": [],
   "source": []
  }
 ],
 "metadata": {
  "kernelspec": {
   "display_name": "Python 3 (ipykernel)",
   "language": "python",
   "name": "python3"
  },
  "language_info": {
   "codemirror_mode": {
    "name": "ipython",
    "version": 3
   },
   "file_extension": ".py",
   "mimetype": "text/x-python",
   "name": "python",
   "nbconvert_exporter": "python",
   "pygments_lexer": "ipython3",
   "version": "3.9.7"
  }
 },
 "nbformat": 4,
 "nbformat_minor": 5
}
