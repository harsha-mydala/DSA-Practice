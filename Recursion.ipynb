{
 "cells": [
  {
   "cell_type": "markdown",
   "id": "32f706d9",
   "metadata": {},
   "source": [
    "## Recursion : When a function calls it self until a specific condition is met"
   ]
  },
  {
   "cell_type": "code",
   "execution_count": 1,
   "id": "f5532d4a",
   "metadata": {},
   "outputs": [
    {
     "name": "stdout",
     "output_type": "stream",
     "text": [
      "1\t1\t1\t1\t1\t1\t1\t1\t1\t1\t"
     ]
    }
   ],
   "source": [
    "'''Simple example: Printing one n times'''\n",
    "\n",
    "def f(n):\n",
    "    if n == 0:    #Base condition, with out base condition we end up getting stackoverflow error\n",
    "        return\n",
    "    \n",
    "    print(1,end = '\\t')\n",
    "    f(n-1)\n",
    "\n",
    "f(10)\n"
   ]
  },
  {
   "cell_type": "markdown",
   "id": "c5064d6e",
   "metadata": {},
   "source": [
    "# 1. Print name 5 times using recursion"
   ]
  },
  {
   "cell_type": "code",
   "execution_count": 2,
   "id": "45b6fa7e",
   "metadata": {},
   "outputs": [
    {
     "name": "stdout",
     "output_type": "stream",
     "text": [
      "mmn\tmmn\tmmn\t"
     ]
    }
   ],
   "source": [
    "def Print(i,n):\n",
    "    if i >n :\n",
    "        return\n",
    "    \n",
    "    print('mmn',end = '\\t')\n",
    "    Print(i+1,n)\n",
    "      \n",
    "n = 3\n",
    "Print(1,n)\n",
    "\n",
    "\n",
    "#Time complexity : O(n)\n",
    "#Space complexity : O(n), because stack space is used by n function calls"
   ]
  },
  {
   "cell_type": "markdown",
   "id": "44fe2d24",
   "metadata": {},
   "source": [
    "# 2. Print 1 to n using recursion"
   ]
  },
  {
   "cell_type": "code",
   "execution_count": 3,
   "id": "930e65a3",
   "metadata": {},
   "outputs": [
    {
     "name": "stdout",
     "output_type": "stream",
     "text": [
      "1\t2\t3\t4\t5\t"
     ]
    }
   ],
   "source": [
    "def Print(i,n):\n",
    "    if i >n :\n",
    "        return\n",
    "    \n",
    "    print(i,end = '\\t')\n",
    "    Print(i+1,n)\n",
    "      \n",
    "n = 5\n",
    "Print(1,n)\n",
    "\n",
    "\n",
    "#Time complexity : O(n)\n",
    "#Space complexity : O(n), because stack space is used by n function calls\n"
   ]
  },
  {
   "cell_type": "markdown",
   "id": "261f0f9d",
   "metadata": {},
   "source": [
    "# 3. Print 1 to n using back tracking"
   ]
  },
  {
   "cell_type": "code",
   "execution_count": 4,
   "id": "b58ebaf5",
   "metadata": {},
   "outputs": [
    {
     "name": "stdout",
     "output_type": "stream",
     "text": [
      "1\t2\t3\t4\t5\t"
     ]
    }
   ],
   "source": [
    "def Print(i,n):\n",
    "    if i < 1 :\n",
    "        return\n",
    "    \n",
    "    Print(i-1,n) # First time Print will be excuted after base condition is satisfied\n",
    "    print(i,end = '\\t') \n",
    "    \n",
    "      \n",
    "n = 5\n",
    "Print(n,n)\n",
    "\n",
    "\n",
    "#Time complexity : O(n)\n",
    "#Space complexity : O(n), because stack space is used by n function calls\n"
   ]
  },
  {
   "cell_type": "markdown",
   "id": "1e00b70a",
   "metadata": {},
   "source": [
    "# 4. Print n to 1 using back tracking"
   ]
  },
  {
   "cell_type": "code",
   "execution_count": 5,
   "id": "0ebabbb9",
   "metadata": {},
   "outputs": [
    {
     "name": "stdout",
     "output_type": "stream",
     "text": [
      "5\t4\t3\t2\t1\t"
     ]
    }
   ],
   "source": [
    "def Print(i,n):\n",
    "    if i > n :\n",
    "        return\n",
    "    \n",
    "    Print(i+1,n) # First time Print will be excuted after base condition is satisfied\n",
    "    print(i,end = '\\t') \n",
    "    \n",
    "      \n",
    "n = 5\n",
    "Print(1,n)\n",
    "\n",
    "\n",
    "#Time complexity : O(n)\n",
    "#Space complexity : O(n), because stack space is used by n function calls\n"
   ]
  },
  {
   "cell_type": "markdown",
   "id": "3dbdc4d4",
   "metadata": {},
   "source": [
    "# 5. Sum of first N numbers using parametrised recursion"
   ]
  },
  {
   "cell_type": "code",
   "execution_count": 6,
   "id": "3223bdb9",
   "metadata": {},
   "outputs": [
    {
     "name": "stdout",
     "output_type": "stream",
     "text": [
      "15\n"
     ]
    }
   ],
   "source": [
    "def Sum(i,s):\n",
    "    if i <1:\n",
    "        print(s)\n",
    "        return\n",
    "    \n",
    "    Sum(i-1,s+i)\n",
    "    \n",
    "n = 5\n",
    "Sum(5,0)\n",
    "    \n",
    "#Time complexity : O(n)\n",
    "#Space complexity : O(n), because stack space is used by n function calls"
   ]
  },
  {
   "cell_type": "markdown",
   "id": "1013f28a",
   "metadata": {},
   "source": [
    "# 6. Sum of first N numbers using functional recursion"
   ]
  },
  {
   "cell_type": "markdown",
   "id": "0c3149e5",
   "metadata": {},
   "source": [
    "What is functional recusrion:\n",
    "if n =3 ,f(3) =  3+f(2)\n",
    "to find f(2), if n = 2, 2+f(1)\n",
    "to find f(1),if n = 1, 1 + f(0)"
   ]
  },
  {
   "cell_type": "code",
   "execution_count": 7,
   "id": "32f04c22",
   "metadata": {},
   "outputs": [
    {
     "data": {
      "text/plain": [
       "15"
      ]
     },
     "execution_count": 7,
     "metadata": {},
     "output_type": "execute_result"
    }
   ],
   "source": [
    "def Sum(i):\n",
    "    if i <1:\n",
    "        return 0\n",
    "    \n",
    "    return i+Sum(i-1)\n",
    "  \n",
    "n = 5\n",
    "Sum(5)\n",
    "    \n",
    "#Time complexity : O(n)\n",
    "#Space complexity : O(n), because stack space is used by n function calls"
   ]
  },
  {
   "cell_type": "markdown",
   "id": "9dc96b12",
   "metadata": {},
   "source": [
    "# 7. Factorial of N"
   ]
  },
  {
   "cell_type": "code",
   "execution_count": 8,
   "id": "5fde147d",
   "metadata": {},
   "outputs": [
    {
     "data": {
      "text/plain": [
       "120"
      ]
     },
     "execution_count": 8,
     "metadata": {},
     "output_type": "execute_result"
    }
   ],
   "source": [
    "def factorial(n):\n",
    "    if n < 1:\n",
    "        return 1\n",
    "    \n",
    "    return n*factorial(n-1)\n",
    "\n",
    "n = 5\n",
    "factorial(n)\n",
    "\n",
    "    \n",
    "#Time complexity : O(n)\n",
    "#Space complexity : O(n), because stack space is used by n function calls"
   ]
  },
  {
   "cell_type": "markdown",
   "id": "14449997",
   "metadata": {},
   "source": [
    "# 8. Reverse an array with recusrion and 2 pointers"
   ]
  },
  {
   "cell_type": "code",
   "execution_count": 9,
   "id": "806cb4fe",
   "metadata": {},
   "outputs": [
    {
     "name": "stdout",
     "output_type": "stream",
     "text": [
      "[5, 4, 3, 2, 1]\n"
     ]
    }
   ],
   "source": [
    "def reverse(l,r):\n",
    "    \n",
    "    if l > r:\n",
    "        return\n",
    "    \n",
    "    array[l],array[r] = array[r],array[l]\n",
    "    reverse(l+1,r-1)\n",
    "    \n",
    "array = [1,2,3,4,5]\n",
    "l = 0\n",
    "r = len(array)-1\n",
    "\n",
    "reverse(l,r)\n",
    "print(array)\n",
    "\n",
    "#Time complexity : O(n)\n",
    "#Space complexity : O(n), because stack space is used by n function calls"
   ]
  },
  {
   "cell_type": "markdown",
   "id": "272c8549",
   "metadata": {},
   "source": [
    "# 9. Reverse an array with recusrion and without 2 pointers"
   ]
  },
  {
   "cell_type": "code",
   "execution_count": 10,
   "id": "5af45c31",
   "metadata": {},
   "outputs": [
    {
     "name": "stdout",
     "output_type": "stream",
     "text": [
      "[5, 4, 3, 2, 1]\n"
     ]
    }
   ],
   "source": [
    "def reverse(l):\n",
    "    \n",
    "    if l > n//2:\n",
    "        return\n",
    "    \n",
    "    array[l],array[n-l-1] = array[n-l-1],array[l]\n",
    "    reverse(l+1)\n",
    "    \n",
    "array = [1,2,3,4,5]\n",
    "l = 0\n",
    "n = len(array)\n",
    "\n",
    "reverse(l)\n",
    "print(array)\n",
    "\n",
    "#Time complexity : O(n)\n",
    "#Space complexity : O(n), because stack space is used by n function calls"
   ]
  },
  {
   "cell_type": "markdown",
   "id": "095fa36a",
   "metadata": {},
   "source": [
    "# 10. Check if a string is palindrome using functional recursion"
   ]
  },
  {
   "cell_type": "code",
   "execution_count": 11,
   "id": "4e840793",
   "metadata": {},
   "outputs": [
    {
     "data": {
      "text/plain": [
       "True"
      ]
     },
     "execution_count": 11,
     "metadata": {},
     "output_type": "execute_result"
    }
   ],
   "source": [
    "def palindrome(l):\n",
    "    \n",
    "    if l > n//2:\n",
    "        return True\n",
    "    \n",
    "    if string[l] != string[n-l-1]:\n",
    "        return False\n",
    "    \n",
    "    \n",
    "    return palindrome(l+1)\n",
    "    \n",
    "string = 'madam'\n",
    "l = 0\n",
    "n = len(string)\n",
    "\n",
    "palindrome(0)\n",
    "\n",
    "\n",
    "#Time complexity : O(n)\n",
    "#Space complexity : O(n), because stack space is used by n function calls"
   ]
  },
  {
   "cell_type": "markdown",
   "id": "6ee6aa57",
   "metadata": {},
   "source": [
    "# 11. Multiple recursion calls : example : Fibinocci number"
   ]
  },
  {
   "cell_type": "code",
   "execution_count": 12,
   "id": "afa18a21",
   "metadata": {},
   "outputs": [
    {
     "data": {
      "text/plain": [
       "8"
      ]
     },
     "execution_count": 12,
     "metadata": {},
     "output_type": "execute_result"
    }
   ],
   "source": [
    "def fib(n):\n",
    "    if n <= 1:\n",
    "        return n\n",
    "    \n",
    "    return fib(n-1)+fib(n-2)\n",
    "\n",
    "fib(6)\n",
    "\n",
    "\n",
    "#Time complexity : O(2^n)\n",
    "#Space complexity : O(n), because stack space is used by n function calls"
   ]
  },
  {
   "cell_type": "markdown",
   "id": "b0340d3b",
   "metadata": {},
   "source": [
    "# 12. Print all subsequences"
   ]
  },
  {
   "cell_type": "markdown",
   "id": "df98c8bb",
   "metadata": {},
   "source": [
    "If array = [3,1,2] then Subsequences = [],[3],[1],[2],[3,1],[3,2],[1,2],[3,1,2]"
   ]
  },
  {
   "cell_type": "code",
   "execution_count": 13,
   "id": "d7f93611",
   "metadata": {},
   "outputs": [
    {
     "name": "stdout",
     "output_type": "stream",
     "text": [
      "[3, 1, 2]  [3, 1]  [3, 2]  [3]  [1, 2]  [1]  [2]  []  "
     ]
    }
   ],
   "source": [
    "def subsequences(ind,op):\n",
    "    \n",
    "    if ind >= n:\n",
    "        print(op,end = '  ')\n",
    "        return\n",
    "    \n",
    "    op.append(arr[ind])     #pick element in the subsequence\n",
    "    subsequences(ind+1,op)\n",
    "    op.remove(arr[ind])     #do not pick element in the subsequence\n",
    "    subsequences(ind+1,op)\n",
    "    \n",
    "\n",
    "arr = [3,1,2]\n",
    "n = len(arr)\n",
    "subsequences(0,[])\n",
    "\n",
    "#Time complexity : O(2^n*n)\n",
    "#Space complexity : O(n), because stack space is used by n function calls\n",
    "        "
   ]
  },
  {
   "cell_type": "markdown",
   "id": "a6eb6dca",
   "metadata": {},
   "source": [
    "# 13. Print subsequences whose sum is K"
   ]
  },
  {
   "cell_type": "code",
   "execution_count": 14,
   "id": "ed1e2739",
   "metadata": {},
   "outputs": [
    {
     "name": "stdout",
     "output_type": "stream",
     "text": [
      "[1, 1]  [2]  "
     ]
    }
   ],
   "source": [
    "def subsequences(ind,op,sum):\n",
    "    \n",
    "    if ind >= n:\n",
    "        \n",
    "        if sum == k:\n",
    "            print(op,end = '  ')\n",
    "        return\n",
    "    \n",
    "    op.append(arr[ind])     #pick element in the subsequence\n",
    "    subsequences(ind+1,op,sum+arr[ind])\n",
    "    op.remove(arr[ind])     #do not pick element in the subsequence\n",
    "    subsequences(ind+1,op,sum)\n",
    "    \n",
    "\n",
    "arr = [1,2,1]\n",
    "k = 2\n",
    "n = len(arr)\n",
    "subsequences(0,[],0)\n",
    "\n",
    "#Time complexity : O(2^n*n)\n",
    "#Space complexity : O(n), because stack space is used by n function calls\n",
    "        "
   ]
  },
  {
   "cell_type": "markdown",
   "id": "510fafc8",
   "metadata": {},
   "source": [
    "# 14. Print any one subsequence whose sum is K"
   ]
  },
  {
   "cell_type": "markdown",
   "id": "5a2141b7",
   "metadata": {},
   "source": [
    "In this problem we use technique to print just one subsequence"
   ]
  },
  {
   "cell_type": "code",
   "execution_count": 15,
   "id": "64301299",
   "metadata": {},
   "outputs": [
    {
     "name": "stdout",
     "output_type": "stream",
     "text": [
      "[1, 1]\n"
     ]
    },
    {
     "data": {
      "text/plain": [
       "True"
      ]
     },
     "execution_count": 15,
     "metadata": {},
     "output_type": "execute_result"
    }
   ],
   "source": [
    "def subsequences(ind,op,sum):\n",
    "    \n",
    "    if ind >= n:\n",
    "        \n",
    "        if sum == k:\n",
    "            print(op)\n",
    "            return True\n",
    "        return False\n",
    "    \n",
    "    op.append(arr[ind])     #pick element in the subsequence\n",
    "    if subsequences(ind+1,op,sum+arr[ind]) == True:\n",
    "    \n",
    "        return True\n",
    "    op.remove(arr[ind])     #do not pick element in the subsequence\n",
    "    if subsequences(ind+1,op,sum) == True:\n",
    "        return True\n",
    "    \n",
    "    return False\n",
    "    \n",
    "\n",
    "arr = [1,2,1]\n",
    "k = 2\n",
    "n = len(arr)\n",
    "subsequences(0,[],0)\n",
    "\n",
    "#Time complexity : O(2^n*n)\n",
    "#Space complexity : O(n), because stack space is used by n function calls\n",
    "        "
   ]
  },
  {
   "cell_type": "markdown",
   "id": "151255f6",
   "metadata": {},
   "source": [
    "# 15. Print number of subsequences whose sum is K"
   ]
  },
  {
   "cell_type": "code",
   "execution_count": 16,
   "id": "389f2dc0",
   "metadata": {},
   "outputs": [
    {
     "data": {
      "text/plain": [
       "2"
      ]
     },
     "execution_count": 16,
     "metadata": {},
     "output_type": "execute_result"
    }
   ],
   "source": [
    "def subsequences(ind,sum):\n",
    "    \n",
    "    if ind >= n:\n",
    "        if sum == k:\n",
    "            return 1\n",
    "        return 0\n",
    "    \n",
    "    \n",
    "    l =  subsequences(ind+1,sum+arr[ind])\n",
    "    r =  subsequences(ind+1,sum) \n",
    "    return l+r\n",
    "    \n",
    "\n",
    "arr = [1,2,1]\n",
    "k = 2\n",
    "n = len(arr)\n",
    "subsequences(0,0)\n",
    "\n",
    "#Time complexity : O(2^n)\n",
    "#Space complexity : O(n), because stack space is used by n function calls\n",
    "        "
   ]
  },
  {
   "cell_type": "markdown",
   "id": "f3fbbc7b",
   "metadata": {},
   "source": [
    "# 16. Merge sort : Divide and merge"
   ]
  },
  {
   "cell_type": "code",
   "execution_count": null,
   "id": "5f2c4f45",
   "metadata": {},
   "outputs": [],
   "source": []
  }
 ],
 "metadata": {
  "kernelspec": {
   "display_name": "Python 3 (ipykernel)",
   "language": "python",
   "name": "python3"
  },
  "language_info": {
   "codemirror_mode": {
    "name": "ipython",
    "version": 3
   },
   "file_extension": ".py",
   "mimetype": "text/x-python",
   "name": "python",
   "nbconvert_exporter": "python",
   "pygments_lexer": "ipython3",
   "version": "3.9.7"
  }
 },
 "nbformat": 4,
 "nbformat_minor": 5
}
